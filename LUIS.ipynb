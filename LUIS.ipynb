{
 "cells": [
  {
   "cell_type": "markdown",
   "id": "b3de4f2a",
   "metadata": {
    "toc": true
   },
   "source": [
    "<h1>Table of Contents<span class=\"tocSkip\"></span></h1>\n",
    "<div class=\"toc\"><ul class=\"toc-item\"><li><span><a href=\"#Introduction-à-LUIS-📚🚀\" data-toc-modified-id=\"Introduction-à-LUIS-📚🚀-1\"><span class=\"toc-item-num\">1&nbsp;&nbsp;</span>Introduction à LUIS 📚🚀</a></span><ul class=\"toc-item\"><li><span><a href=\"#LUIS-via-le-portail-luis.ai\" data-toc-modified-id=\"LUIS-via-le-portail-luis.ai-1.1\"><span class=\"toc-item-num\">1.1&nbsp;&nbsp;</span>LUIS via le portail luis.ai</a></span></li><li><span><a href=\"#LUIS-via-SDK-Luis-Python\" data-toc-modified-id=\"LUIS-via-SDK-Luis-Python-1.2\"><span class=\"toc-item-num\">1.2&nbsp;&nbsp;</span>LUIS via SDK Luis Python</a></span></li><li><span><a href=\"#Import-des-librairies\" data-toc-modified-id=\"Import-des-librairies-1.3\"><span class=\"toc-item-num\">1.3&nbsp;&nbsp;</span>Import des librairies</a></span></li><li><span><a href=\"#Conclusion-🎉\" data-toc-modified-id=\"Conclusion-🎉-1.4\"><span class=\"toc-item-num\">1.4&nbsp;&nbsp;</span>Conclusion 🎉</a></span></li></ul></li></ul></div>"
   ]
  },
  {
   "cell_type": "markdown",
   "id": "ded0fe08",
   "metadata": {},
   "source": [
    "# Introduction à LUIS 📚🚀\n",
    "\n",
    "LUIS (Language Understanding Intelligent Service) est un service cloud de Microsoft Azure qui permet de créer et d'intégrer des modèles de compréhension du langage naturel dans vos applications. Il utilise l'intelligence artificielle pour comprendre les intentions et les entités dans le texte saisi par les utilisateurs.\n",
    "\n",
    "🔍 Qu'est-ce que LUIS ?\n",
    "\n",
    "LUIS est un service basé sur le cloud qui vous permet de construire des modèles de langage naturel pour comprendre les intentions de vos utilisateurs. Il vous aide à construire des chatbots, des agents virtuels et d'autres applications conversationnelles. LUIS utilise des techniques d'apprentissage automatique pour analyser et comprendre les phrases de manière contextuelle.\n",
    "\n",
    "📋 Que peut faire LUIS ?\n",
    "\n",
    "- **Compréhension des intentions** : LUIS peut identifier les intentions des utilisateurs à partir des phrases saisies, ce qui vous permet de comprendre ce que les utilisateurs veulent faire.\n",
    "- **Extraction des entités** : LUIS peut extraire des informations spécifiques (entités) d'une phrase, telles que des noms, des dates ou des numéros de téléphone, afin d'améliorer la compréhension et la personnalisation de l'expérience utilisateur.\n",
    "- **Dialogues conversationnels** : LUIS vous permet de créer des dialogues conversationnels naturels et fluides en comprenant le contexte de la conversation et en adaptant les réponses en conséquence.\n",
    "- **Intégration avec des applications** : LUIS peut être facilement intégré dans vos applications, chatbots ou agents virtuels, permettant ainsi une expérience utilisateur plus interactive et personnalisée.\n",
    "\n",
    "⚙️ Configuration de LUIS\n",
    "\n",
    "Pour commencer à utiliser LUIS, vous devez créer une ressource LUIS dans Microsoft Azure. Vous pouvez le faire manuellement via le portail Azure ou utiliser le SDK de Python pour automatiser la création de la ressource et la gestion des modèles de langage, ou lisez ce notebook !\n",
    "\n",
    "📝 Dans ce notebook\n",
    "\n",
    "Dans ce notebook, nous allons explorer différentes étapes pour travailler avec LUIS :\n",
    "1. Création d'une ressource LUIS dans Azure.\n",
    "2. Utilisation du SDK de Python pour interagir avec LUIS.\n",
    "3. Entraînement (de test).\n",
    "4. Intégration de LUIS dans une application ou un chatbot.\n",
    "\n",
    "Prêt à découvrir les capacités de LUIS et à construire des applications conversationnelles plus intelligentes ? Let's go ! 🤓👩‍💻"
   ]
  },
  {
   "cell_type": "markdown",
   "id": "b336b869",
   "metadata": {},
   "source": [
    "Pour utiliser l'application LUIS, nous devons d'abord créer une ressource (après avoir créé un compte Azure)."
   ]
  },
  {
   "cell_type": "markdown",
   "id": "3eba6bf5",
   "metadata": {},
   "source": [
    "![Ressource](image_notebook/LUIS/creer-ressource.png)\n",
    "\n",
    "----\n",
    "\n",
    "![Ressource2](image_notebook/LUIS/creer-ressource2.png)\n",
    "\n",
    "----\n",
    "\n",
    "![Ressource3](image_notebook/LUIS/creer-ressource3.png)"
   ]
  },
  {
   "cell_type": "markdown",
   "id": "76742f91",
   "metadata": {},
   "source": [
    "Nous utilisons l'abonnement que nous avons choisi lors de la création de notre compte. Pour les exemples, le groupe de ressource se nommera \"test\".\n",
    "\n",
    "Nous cliquons ensuite sur le bouton \"Vérifier + Créer\" en bas de l'écran et sur \"Créer\".\n",
    "\n",
    "![Ressource4](image_notebook/LUIS/creer-ressource4.png)\n",
    "\n",
    "Nous avons maintenant notre groupe de ressources \"Test\", nous pouvons ensuite cliquer dessus."
   ]
  },
  {
   "cell_type": "markdown",
   "id": "dc3d0022",
   "metadata": {},
   "source": [
    "![Ressource5](image_notebook/LUIS/creer-ressource5.png)"
   ]
  },
  {
   "cell_type": "markdown",
   "id": "feeece6f",
   "metadata": {},
   "source": [
    "Une fois sur la page de notre groupe de ressources, nous pouvons créer des ressources, nous cliquons sur le bouton."
   ]
  },
  {
   "cell_type": "markdown",
   "id": "3ec12268",
   "metadata": {},
   "source": [
    "![Ressource-luis](image_notebook/LUIS/ressource-luis.png)"
   ]
  },
  {
   "cell_type": "markdown",
   "id": "ab29227b",
   "metadata": {},
   "source": [
    "Nous tapons ensuite dans la barre de recherche \"Langue Understanding\" puis nous cliquons sur la première proposition."
   ]
  },
  {
   "cell_type": "markdown",
   "id": "23b84af7",
   "metadata": {},
   "source": [
    "![Ressource-luis2](image_notebook/LUIS/ressource-luis2.png)"
   ]
  },
  {
   "cell_type": "markdown",
   "id": "474e036a",
   "metadata": {},
   "source": [
    "Nous cliquons ensuite sur \"Créer\"."
   ]
  },
  {
   "cell_type": "markdown",
   "id": "747453a0",
   "metadata": {},
   "source": [
    "![Ressource-luis3](image_notebook/LUIS/ressource-luis3.png)"
   ]
  },
  {
   "cell_type": "markdown",
   "id": "243b185c",
   "metadata": {},
   "source": [
    "Nous avons ensuite deux possibilités au niveau des options de création.\n",
    "\n",
    "L'option de création est : \n",
    ">Pour créer, gérer, entrainer, tester et publier votre modèle LUIS, vous devez créer la ressource de création ci-dessous. Vous bénéficiez alors de 1 000 demandes de point de terminaison/mois.\n",
    "\n",
    "L'option de prédiction est : \n",
    ">Si vous voulez donner à votre application cliente l'accès à plus de demandes que les 1 000 fournies par la création, créez la ressource de prédiction ci-dessous.\n",
    "\n",
    "Et l'option pour choisir les deux.\n",
    "\n",
    "Dans notre cas nous avons utilisé l'option de création et de prédiction, nous aurions dû directement choisir l'option \"les deux\". Nous devons bien faire attention à utiliser le **niveau tarifaire gratuit lors de la création de notre ressource**.\n",
    "\n",
    "Puis nous cliquons sur \"Vérifier + Créer\" et \"Créer\"."
   ]
  },
  {
   "cell_type": "markdown",
   "id": "1e727ca0",
   "metadata": {},
   "source": [
    "![Ressource-luis4](image_notebook/LUIS/ressource-luis4.png)"
   ]
  },
  {
   "cell_type": "markdown",
   "id": "6a290597",
   "metadata": {},
   "source": [
    "## LUIS via le portail luis.ai\n",
    "Nous avons maintenant notre ressource Luis. Nous avons ensuite été sur le portail LUIS à cette adresse : https://www.luis.ai/ où nous avons créé un compte."
   ]
  },
  {
   "cell_type": "markdown",
   "id": "a261b20f",
   "metadata": {},
   "source": [
    "![portail-luis](image_notebook/LUIS/portail-luis.png)"
   ]
  },
  {
   "cell_type": "markdown",
   "id": "ad51033f",
   "metadata": {},
   "source": [
    "Il nous a suffi ensuite de créer une nouvelle application en entrant le formulaire et en sélectionnant notre ressource de prédiction que nous avons créée sur Azure."
   ]
  },
  {
   "cell_type": "markdown",
   "id": "e4886264",
   "metadata": {},
   "source": [
    "Une fois l'application créer, il suffit de cliquer dessus pour se retrouver sur la page de l'application. D'aller ensuite dans l'onglet \"Prebuilt Domain\" et de sélectionner \"RestaurantReservation\"."
   ]
  },
  {
   "cell_type": "markdown",
   "id": "fdee289b",
   "metadata": {},
   "source": [
    "![portail-luis2](image_notebook/LUIS/portail-luis2.png)"
   ]
  },
  {
   "cell_type": "markdown",
   "id": "67036edf",
   "metadata": {},
   "source": [
    "Nous pouvons ensuite entrainer avec le bouton \"Train\" en haut à droite de l'écran puis sur \"Publish\" en sélectionnant \"Production\"."
   ]
  },
  {
   "cell_type": "markdown",
   "id": "805b0fe2",
   "metadata": {},
   "source": [
    "![portail-luis3](image_notebook/LUIS/portail-luis3.png)"
   ]
  },
  {
   "cell_type": "markdown",
   "id": "b8fd4ee5",
   "metadata": {},
   "source": [
    "Nous avons ici exploré LUIS, ce qui a été fait n'est pas demandé dans le projet, mais nous a permit d'avoir une vue d'ensemble et de comprendre comment cela fonctionnait."
   ]
  },
  {
   "cell_type": "markdown",
   "id": "9aa63d55",
   "metadata": {},
   "source": [
    "## LUIS via SDK Luis Python"
   ]
  },
  {
   "cell_type": "markdown",
   "id": "734b4f8a",
   "metadata": {},
   "source": [
    "Nous avons pour cette partie recréé une ressource LUIS avec pour option \"les deux\".\n",
    "\n",
    "Avant de commencer cette partie, nous devons définir ce que sont ces trois termes : \n",
    "- **Utterance**: le message texte brut ex: Book a hotel in Seattle\n",
    "- **Intent**: qu'est-ce que l'utilisateur essaie de faire ex.: réserver un hôtel\n",
    "- **Entity**: à quoi l'utilisateur fait-il référence ? Ex.: Seatt"
   ]
  },
  {
   "cell_type": "markdown",
   "id": "fd083996",
   "metadata": {},
   "source": [
    "## Import des librairies"
   ]
  },
  {
   "cell_type": "code",
   "execution_count": 1,
   "id": "a133c710",
   "metadata": {},
   "outputs": [],
   "source": [
    "from azure.cognitiveservices.language.luis.authoring import LUISAuthoringClient\n",
    "from azure.cognitiveservices.language.luis.authoring.models import ApplicationCreateObject\n",
    "from azure.cognitiveservices.language.luis.runtime import LUISRuntimeClient\n",
    "from msrest.authentication import CognitiveServicesCredentials\n",
    "from functools import reduce\n",
    "\n",
    "import pandas as pd\n",
    "\n",
    "import json, time, uuid\n",
    "import os\n",
    "from dotenv import load_dotenv"
   ]
  },
  {
   "cell_type": "code",
   "execution_count": 3,
   "id": "c52b61d4",
   "metadata": {},
   "outputs": [],
   "source": [
    "authoringKey = os.environ.get(\"APP_AUTHORING_KEY\")\n",
    "authoringEndpoint = os.environ.get(\"ENDPOINT_AUTHORING_URL\")\n",
    "\n",
    "appName = 'Luis-P10-Reda-Authoring'\n",
    "versionId = \"0.1\"\n",
    "intentName = \"Booking\""
   ]
  },
  {
   "cell_type": "markdown",
   "id": "acf933ba",
   "metadata": {},
   "source": [
    "Nous créons un objet **CognitiveServicesCredentials** avec notre clé et l'utilisons avec notre point de terminaison pour créer un objet **LUISAuthoringClient**."
   ]
  },
  {
   "cell_type": "code",
   "execution_count": 4,
   "id": "02c3b2b0",
   "metadata": {},
   "outputs": [],
   "source": [
    "client = LUISAuthoringClient(authoringEndpoint,\n",
    "                             CognitiveServicesCredentials(authoringKey))"
   ]
  },
  {
   "cell_type": "code",
   "execution_count": 5,
   "id": "d4c6ec86",
   "metadata": {},
   "outputs": [
    {
     "name": "stdout",
     "output_type": "stream",
     "text": [
      "Created LUIS app with ID 07c3e708-6145-47c4-8e53-95b894f863ff\n"
     ]
    }
   ],
   "source": [
    "# define app basics\n",
    "appDefinition = ApplicationCreateObject(name=appName,\n",
    "                                        initial_version_id=versionId,\n",
    "                                        culture='en-us')\n",
    "\n",
    "# create app\n",
    "app_id = client.apps.add(appDefinition)\n",
    "\n",
    "# get app id - necessary for all other changes\n",
    "print(\"Created LUIS app with ID {}\".format(app_id))"
   ]
  },
  {
   "cell_type": "markdown",
   "id": "a2e8e8c1",
   "metadata": {},
   "source": [
    "Nous avons maintenant notre application de créée."
   ]
  },
  {
   "cell_type": "markdown",
   "id": "409f57a1",
   "metadata": {},
   "source": [
    "![luis-sdk-create-app](image_notebook/LUIS/luis-sdk-create-app.png)"
   ]
  },
  {
   "cell_type": "markdown",
   "id": "ce7c715c",
   "metadata": {},
   "source": [
    "Nous créons maintenant l'intention de l'application."
   ]
  },
  {
   "cell_type": "code",
   "execution_count": 6,
   "id": "4a4bf6a4",
   "metadata": {},
   "outputs": [
    {
     "data": {
      "text/plain": [
       "'1b1efe7a-e75e-4e20-bc59-14cf8d5b659d'"
      ]
     },
     "execution_count": 6,
     "metadata": {},
     "output_type": "execute_result"
    }
   ],
   "source": [
    "# app_id = \"9173b5d9-15dd-4b11-8dca-969126d1d2ad\"\n",
    "\n",
    "client.model.add_intent(app_id, versionId, intentName)"
   ]
  },
  {
   "cell_type": "markdown",
   "id": "2def5a65",
   "metadata": {},
   "source": [
    "Nous avons maintenant notre intention (indent)."
   ]
  },
  {
   "cell_type": "markdown",
   "id": "82849d6b",
   "metadata": {},
   "source": [
    "![luis-sdk-create-app-indent](image_notebook/LUIS/luis-sdk-create-app-indent.png)"
   ]
  },
  {
   "cell_type": "markdown",
   "id": "188c8a66",
   "metadata": {},
   "source": [
    "Créons maintenant l'entité de l'application."
   ]
  },
  {
   "cell_type": "code",
   "execution_count": 7,
   "id": "bf2788f4",
   "metadata": {},
   "outputs": [],
   "source": [
    "def get_grandchild_id(model, childName, grandChildName):\n",
    "\n",
    "    theseChildren = next(\n",
    "        filter((lambda child: child.name == childName), model.children))\n",
    "    theseGrandchildren = next(\n",
    "        filter((lambda child: child.name == grandChildName),\n",
    "               theseChildren.children))\n",
    "\n",
    "    grandChildId = theseGrandchildren.id\n",
    "\n",
    "    return grandChildId"
   ]
  },
  {
   "cell_type": "code",
   "execution_count": 8,
   "id": "b8a96ff9",
   "metadata": {},
   "outputs": [
    {
     "data": {
      "text/plain": [
       "<azure.cognitiveservices.language.luis.authoring.models._models_py3.OperationStatus at 0x1f0920707c0>"
      ]
     },
     "execution_count": 8,
     "metadata": {},
     "output_type": "execute_result"
    }
   ],
   "source": [
    "# Add Prebuilt entity\n",
    "# client.model.add_prebuilt(app_id, versionId, prebuilt_extractor_names=['datetimeV2', 'money', 'geographyV2'])\n",
    "\n",
    "# define machine-learned entity\n",
    "mlEntityDefinition = [{\n",
    "    \"name\":\n",
    "    \"Fly\",\n",
    "    \"children\": [{\n",
    "        \"name\": \"or_city\"\n",
    "    }, {\n",
    "        \"name\": \"dst_city\"\n",
    "    }, {\n",
    "        \"name\": \"str_date\"\n",
    "    }, {\n",
    "        \"name\": \"end_date\"\n",
    "    }, {\n",
    "        \"name\": \"budget\"\n",
    "    }]\n",
    "}]\n",
    "\n",
    "# add entity to app\n",
    "modelId = client.model.add_entity(app_id,\n",
    "                                  versionId,\n",
    "                                  name=\"FlyOrder\",\n",
    "                                  children=mlEntityDefinition)\n",
    "\n",
    "# define phraselist - add phrases as significant vocabulary to app\n",
    "# Ajoute un poids aux mots\n",
    "\n",
    "phraseList_dst = {\n",
    "    \"enabledForAllModels\": False,\n",
    "    \"isExchangeable\": True,\n",
    "    \"name\": \"Phraselist\",\n",
    "    \"phrases\": \"fly, destination, hotel\"\n",
    "}\n",
    "\n",
    "# add phrase list to app\n",
    "phraseList_dst = client.features.add_phrase_list(app_id, versionId,\n",
    "                                                 phraseList_dst)\n",
    "\n",
    "# add phrase list as feature to subentity model\n",
    "modelObject = client.model.get_entity(app_id, versionId, modelId)\n",
    "\n",
    "FlyDst_cityId = get_grandchild_id(modelObject, \"Fly\", \"dst_city\")\n",
    "\n",
    "phraseListFeatureDefinition = {\n",
    "    \"feature_name\": \"Phraselist\",\n",
    "    \"model_name\": None\n",
    "}\n",
    "client.features.add_entity_feature(app_id, versionId, FlyDst_cityId,\n",
    "                                   phraseListFeatureDefinition)"
   ]
  },
  {
   "cell_type": "markdown",
   "id": "1e8e23fa",
   "metadata": {},
   "source": [
    "Nous avons maintenant notre entité."
   ]
  },
  {
   "cell_type": "markdown",
   "id": "e04f2b7c",
   "metadata": {},
   "source": [
    "![app-entite](image_notebook/LUIS/app-entite.png)\n",
    "![app-entite2](image_notebook/LUIS/app-entite2.png)"
   ]
  },
  {
   "cell_type": "markdown",
   "id": "9587c8de",
   "metadata": {},
   "source": [
    "Nous avons maintenant notre entité ainsi que notre feature attribué à \"dst_city\"."
   ]
  },
  {
   "cell_type": "markdown",
   "id": "68ec1774",
   "metadata": {},
   "source": [
    "Nous allons maintenant ajouter un exemple d'énoncé.\n",
    "\n",
    "Comme dit dans la documentation :\n",
    ">Pour déterminer l’intention d’un énoncé et extraire des entités, l’application a besoin d’exemples d’énoncés. Les exemples doivent cibler une intention spécifique et unique, et doivent marquer toutes les entités personnalisées. Les entités prédéfinies n’ont pas besoin d’être marquées.\n",
    "\n",
    ">Ajoutez des exemples d’énoncés en créant une liste d’objets ExampleLabelObject, un objet pour chaque exemple d’énoncé. Chaque exemple doit marquer toutes les entités avec un dictionnaire de paires nom/valeur de nom d’entité et de valeur d’entité. La valeur de l’entité doit être exactement telle qu’elle apparaît dans le texte de l’exemple d’énoncé.\n",
    "\n",
    "Adaptons l'exemple de la documentation à notre projet. Importons notre dataframe train_df pour en extraire un turn, de manière à avoir un exemple un peu plus concret."
   ]
  },
  {
   "cell_type": "code",
   "execution_count": 9,
   "id": "4b02bfa1",
   "metadata": {
    "scrolled": true
   },
   "outputs": [
    {
     "data": {
      "text/html": [
       "<div>\n",
       "<style scoped>\n",
       "    .dataframe tbody tr th:only-of-type {\n",
       "        vertical-align: middle;\n",
       "    }\n",
       "\n",
       "    .dataframe tbody tr th {\n",
       "        vertical-align: top;\n",
       "    }\n",
       "\n",
       "    .dataframe thead th {\n",
       "        text-align: right;\n",
       "    }\n",
       "</style>\n",
       "<table border=\"1\" class=\"dataframe\">\n",
       "  <thead>\n",
       "    <tr style=\"text-align: right;\">\n",
       "      <th></th>\n",
       "      <th>text</th>\n",
       "      <th>or_city</th>\n",
       "      <th>dst_city</th>\n",
       "      <th>str_date</th>\n",
       "      <th>end_date</th>\n",
       "      <th>budget</th>\n",
       "    </tr>\n",
       "  </thead>\n",
       "  <tbody>\n",
       "    <tr>\n",
       "      <th>0</th>\n",
       "      <td>I am a world-renowned pastry chef and I need t...</td>\n",
       "      <td>NaN</td>\n",
       "      <td>St. Petersburg</td>\n",
       "      <td>NaN</td>\n",
       "      <td>NaN</td>\n",
       "      <td>NaN</td>\n",
       "    </tr>\n",
       "    <tr>\n",
       "      <th>1</th>\n",
       "      <td>IM IN TIJUANA FIND ME A FLIGHT TO CURITIBA AUG...</td>\n",
       "      <td>TIJUANA</td>\n",
       "      <td>CURITIBA</td>\n",
       "      <td>AUG 27</td>\n",
       "      <td>SEPT 4</td>\n",
       "      <td>NaN</td>\n",
       "    </tr>\n",
       "    <tr>\n",
       "      <th>2</th>\n",
       "      <td>Hi im from punta cana looking to go on a trip</td>\n",
       "      <td>punta cana</td>\n",
       "      <td>NaN</td>\n",
       "      <td>NaN</td>\n",
       "      <td>NaN</td>\n",
       "      <td>NaN</td>\n",
       "    </tr>\n",
       "    <tr>\n",
       "      <th>3</th>\n",
       "      <td>Where can this guy go for 2400??? I live in Me...</td>\n",
       "      <td>Mexico City</td>\n",
       "      <td>Milan</td>\n",
       "      <td>NaN</td>\n",
       "      <td>NaN</td>\n",
       "      <td>2400</td>\n",
       "    </tr>\n",
       "    <tr>\n",
       "      <th>4</th>\n",
       "      <td>Are there 5 star hotels in Kyoto?</td>\n",
       "      <td>NaN</td>\n",
       "      <td>Kyoto</td>\n",
       "      <td>NaN</td>\n",
       "      <td>NaN</td>\n",
       "      <td>NaN</td>\n",
       "    </tr>\n",
       "  </tbody>\n",
       "</table>\n",
       "</div>"
      ],
      "text/plain": [
       "                                                text      or_city  \\\n",
       "0  I am a world-renowned pastry chef and I need t...          NaN   \n",
       "1  IM IN TIJUANA FIND ME A FLIGHT TO CURITIBA AUG...      TIJUANA   \n",
       "2      Hi im from punta cana looking to go on a trip   punta cana   \n",
       "3  Where can this guy go for 2400??? I live in Me...  Mexico City   \n",
       "4                  Are there 5 star hotels in Kyoto?          NaN   \n",
       "\n",
       "         dst_city str_date end_date budget  \n",
       "0  St. Petersburg      NaN      NaN    NaN  \n",
       "1        CURITIBA   AUG 27   SEPT 4    NaN  \n",
       "2             NaN      NaN      NaN    NaN  \n",
       "3           Milan      NaN      NaN   2400  \n",
       "4           Kyoto      NaN      NaN    NaN  "
      ]
     },
     "execution_count": 9,
     "metadata": {},
     "output_type": "execute_result"
    }
   ],
   "source": [
    "df = pd.read_csv('data/train_df.csv')\n",
    "df.head()"
   ]
  },
  {
   "cell_type": "markdown",
   "id": "daa64bb4",
   "metadata": {},
   "source": [
    "Prenons le deuxième texte pour exemple. Ajoutons seulement un budget factice."
   ]
  },
  {
   "cell_type": "code",
   "execution_count": 10,
   "id": "6099330c",
   "metadata": {
    "scrolled": true
   },
   "outputs": [
    {
     "name": "stdout",
     "output_type": "stream",
     "text": [
      "88\n"
     ]
    },
    {
     "data": {
      "text/plain": [
       "'IM IN TIJUANA FIND ME A FLIGHT TO CURITIBA AUG 27 TO SEPT 4 for a budget of 3500 dollars'"
      ]
     },
     "execution_count": 10,
     "metadata": {},
     "output_type": "execute_result"
    }
   ],
   "source": [
    "text = df[\"text\"][1] + \" for a budget of 3500 dollars\"\n",
    "print(len(text))\n",
    "text"
   ]
  },
  {
   "cell_type": "markdown",
   "id": "70b70919",
   "metadata": {},
   "source": [
    "Nous devons maintenant créer notre exemple, avant cela, définissons les différentes clefs du format attendu :\n",
    "- **text**: Le message envoyé par l'utilisateur\n",
    "- **intentName**: Enoncé de la demande\n",
    "- **entityLabels**: Les différents labels de l'entités (or_city, dst_city...)\n",
    "- **startCharIndex**: Début des informations à récupérer par le chatbot\n",
    "- **endCharIndex**: Fin des informations à récupérer par le chatbot\n",
    "- **entityName**: Nom de l'entité"
   ]
  },
  {
   "cell_type": "code",
   "execution_count": 11,
   "id": "b39cbb2b",
   "metadata": {},
   "outputs": [
    {
     "name": "stdout",
     "output_type": "stream",
     "text": [
      "Labeled Example Utterance: {'text': 'IM IN TIJUANA FIND ME A FLIGHT TO CURITIBA AUG 27 TO SEPT 4 for a budget of 3500 dollars', 'intentName': 'Booking', 'entityLabels': [{'startCharIndex': 6, 'endCharIndex': 87, 'entityName': 'FlyOrder', 'children': [{'startCharIndex': 6, 'endCharIndex': 87, 'entityName': 'Fly', 'children': [{'startCharIndex': 6, 'endCharIndex': 13, 'entityName': 'or_city'}, {'startCharIndex': 34, 'endCharIndex': 42, 'entityName': 'dst_city'}, {'startCharIndex': 43, 'endCharIndex': 49, 'entityName': 'str_date'}, {'startCharIndex': 53, 'endCharIndex': 59, 'entityName': 'end_date'}, {'startCharIndex': 76, 'endCharIndex': 87, 'entityName': 'budget'}]}]}]}\n"
     ]
    },
    {
     "data": {
      "text/plain": [
       "<azure.cognitiveservices.language.luis.authoring.models._models_py3.LabelExampleResponse at 0x1f0920720e0>"
      ]
     },
     "execution_count": 11,
     "metadata": {},
     "output_type": "execute_result"
    }
   ],
   "source": [
    "# Define labeled example\n",
    "labeledExampleUtteranceWithMLEntity = {\n",
    "    \"text\":\n",
    "    text,\n",
    "    \"intentName\":\n",
    "    intentName,\n",
    "    \"entityLabels\": [{\n",
    "        \"startCharIndex\":\n",
    "        6,\n",
    "        \"endCharIndex\":\n",
    "        87,\n",
    "        \"entityName\":\n",
    "        \"FlyOrder\",\n",
    "        \"children\": [{\n",
    "            \"startCharIndex\":\n",
    "            6,\n",
    "            \"endCharIndex\":\n",
    "            87,\n",
    "            \"entityName\":\n",
    "            \"Fly\",\n",
    "            \"children\": [{\n",
    "                \"startCharIndex\": 6,\n",
    "                \"endCharIndex\": 13,\n",
    "                \"entityName\": \"or_city\"\n",
    "            }, {\n",
    "                \"startCharIndex\": 34,\n",
    "                \"endCharIndex\": 42,\n",
    "                \"entityName\": \"dst_city\"\n",
    "            }, {\n",
    "                \"startCharIndex\": 43,\n",
    "                \"endCharIndex\": 49,\n",
    "                \"entityName\": \"str_date\"\n",
    "            }, {\n",
    "                \"startCharIndex\": 53,\n",
    "                \"endCharIndex\": 59,\n",
    "                \"entityName\": \"end_date\"\n",
    "            }, {\n",
    "                \"startCharIndex\": 76,\n",
    "                \"endCharIndex\": 87,\n",
    "                \"entityName\": \"budget\"\n",
    "            }]\n",
    "        }]\n",
    "    }]\n",
    "}\n",
    "\n",
    "print(\"Labeled Example Utterance:\", labeledExampleUtteranceWithMLEntity)\n",
    "\n",
    "# Add an example for the entity.\n",
    "# Enable nested children to allow using multiple models with the same name.\n",
    "# The quantity subentity and the phraselist could have the same exact name if this is set to True\n",
    "client.examples.add(app_id, versionId, labeledExampleUtteranceWithMLEntity,\n",
    "                    {\"enableNestedChildren\": True})"
   ]
  },
  {
   "cell_type": "markdown",
   "id": "4084c52b",
   "metadata": {},
   "source": [
    "Nous avons maintenant notre example.\n",
    "\n",
    "![Luis_exemple](image_notebook/LUIS/concept_exemple.png)"
   ]
  },
  {
   "cell_type": "markdown",
   "id": "bf37030c",
   "metadata": {},
   "source": [
    "Passons au premier entrainement de notre modèle."
   ]
  },
  {
   "cell_type": "code",
   "execution_count": 12,
   "id": "664c81e5",
   "metadata": {},
   "outputs": [
    {
     "name": "stdout",
     "output_type": "stream",
     "text": [
      "Waiting 10 seconds for training to complete...\n",
      "trained\n"
     ]
    }
   ],
   "source": [
    "client.train.train_version(app_id, versionId)\n",
    "waiting = True\n",
    "while waiting:\n",
    "    info = client.train.get_status(app_id, versionId)\n",
    "\n",
    "    # get_status returns a list of training statuses, one for each model. Loop through them and make sure all are done.\n",
    "    waiting = any(\n",
    "        map(\n",
    "            lambda x: 'Queued' == x.details.status or 'InProgress' == x.details\n",
    "            .status, info))\n",
    "    if waiting:\n",
    "        print(\"Waiting 10 seconds for training to complete...\")\n",
    "        time.sleep(10)\n",
    "    else:\n",
    "        print(\"trained\")\n",
    "        waiting = False"
   ]
  },
  {
   "cell_type": "markdown",
   "id": "c5b11c37",
   "metadata": {},
   "source": [
    "Publions notre modèle."
   ]
  },
  {
   "cell_type": "code",
   "execution_count": 13,
   "id": "2d19e840",
   "metadata": {},
   "outputs": [],
   "source": [
    "# Mark the app as public so we can query it using any prediction endpoint.\n",
    "# Note: For production scenarios, you should instead assign the app to your own LUIS prediction endpoint. See:\n",
    "# https://docs.microsoft.com/en-gb/azure/cognitive-services/luis/luis-how-to-azure-subscription#assign-a-resource-to-an-app\n",
    "client.apps.update_settings(app_id, is_public=True)\n",
    "\n",
    "responseEndpointInfo = client.apps.publish(app_id, versionId, is_staging=False)"
   ]
  },
  {
   "cell_type": "markdown",
   "id": "0394a5a6",
   "metadata": {},
   "source": [
    "Testons une prédiction. **Pour le code final, nous devons penser utiliser la clef API de prédiction pour interroger l'application**."
   ]
  },
  {
   "cell_type": "code",
   "execution_count": 14,
   "id": "d9943c5f",
   "metadata": {},
   "outputs": [],
   "source": [
    "runtimeCredentials = CognitiveServicesCredentials(authoringKey)\n",
    "clientRuntime = LUISRuntimeClient(endpoint=authoringEndpoint,\n",
    "                                  credentials=runtimeCredentials)"
   ]
  },
  {
   "cell_type": "code",
   "execution_count": 15,
   "id": "b156df72",
   "metadata": {},
   "outputs": [],
   "source": [
    "text_prediction = \"IM IN UKRAINE FIND ME A FLIGHT TO MALAYSIA FEB 22 TO SEPT 8 for a budget of 6500 dollars\""
   ]
  },
  {
   "cell_type": "code",
   "execution_count": 16,
   "id": "07aa0046",
   "metadata": {},
   "outputs": [
    {
     "name": "stdout",
     "output_type": "stream",
     "text": [
      "Top intent: Booking\n",
      "Sentiment: None\n",
      "Intents: \n",
      "\t\"Booking\"\n",
      "Entities: {'FlyOrder': [{'Fly': [{'or_city': ['UKRAINE'], 'dst_city': ['MALAYSIA'], 'str_date': ['FEB 22'], 'end_date': ['SEPT 8'], 'budget': ['6500 dollars']}]}]}\n"
     ]
    }
   ],
   "source": [
    "# Production == slot name\n",
    "predictionRequest = {\"query\": text_prediction}\n",
    "\n",
    "predictionResponse = clientRuntime.prediction.get_slot_prediction(\n",
    "    app_id, \"Production\", predictionRequest)\n",
    "print(\"Top intent: {}\".format(predictionResponse.prediction.top_intent))\n",
    "print(\"Sentiment: {}\".format(predictionResponse.prediction.sentiment))\n",
    "print(\"Intents: \")\n",
    "\n",
    "for intent in predictionResponse.prediction.intents:\n",
    "    print(\"\\t{}\".format(json.dumps(intent)))\n",
    "print(\"Entities: {}\".format(predictionResponse.prediction.entities))"
   ]
  },
  {
   "cell_type": "markdown",
   "id": "c5da3ced",
   "metadata": {},
   "source": [
    "Pour ce premier entrainement et ce premier test, nous avons des résultats plutôt convaincants.\n",
    "\n",
    "Essayons maintenant de créer une autre application avec pour entrainement notre données train et avec pour test nos données de test."
   ]
  },
  {
   "cell_type": "markdown",
   "id": "7a56afc3",
   "metadata": {},
   "source": [
    "## Conclusion 🎉\n",
    "\n",
    "Dans ce notebook, nous avons découvert les bases de LUIS (Language Understanding Intelligent Service) de Microsoft Azure, un puissant service d'analyse du langage naturel pour créer des applications conversationnelles plus intelligentes. Nous avons exploré différents aspects de LUIS, de la création d'une ressource dans Azure à l'utilisation du SDK Python pour interagir avec les modèles de langage.\n",
    "\n",
    "Le prochain notebook, Luis_production, vous réserve encore plus de découvertes passionnantes sur LUIS. Voici un aperçu du contenu des prochains chapitres :\n",
    "\n",
    "\n",
    "**Entraînement** : Nous plongerons dans les détails de l'entraînement du modèle LUIS, en envoyant des utterances, en entraînant le modèle, en publiant le modèle et en effectuant des prédictions.\n",
    "\n",
    "**Formatage des données préconstruites** : Nous verrons comment formater correctement les données préconstruites dans LUIS, en nous concentrant sur des éléments spécifiques tels que la date, le budget et la géographie.\n",
    "\n",
    "**Scoring et optimisation** : Nous explorerons les différentes techniques de scoring et d'optimisation pour améliorer les performances de nos modèles LUIS.\n",
    "\n",
    "Préparez-vous à plonger plus profondément dans le monde fascinant de LUIS et à créer des applications conversationnelles plus intelligentes et plus performantes ! 🚀🤖"
   ]
  }
 ],
 "metadata": {
  "kernelspec": {
   "display_name": "Python (P4)",
   "language": "python",
   "name": "p4"
  },
  "language_info": {
   "codemirror_mode": {
    "name": "ipython",
    "version": 3
   },
   "file_extension": ".py",
   "mimetype": "text/x-python",
   "name": "python",
   "nbconvert_exporter": "python",
   "pygments_lexer": "ipython3",
   "version": "3.10.11"
  },
  "toc": {
   "base_numbering": 1,
   "nav_menu": {},
   "number_sections": true,
   "sideBar": true,
   "skip_h1_title": false,
   "title_cell": "Table of Contents",
   "title_sidebar": "Contents",
   "toc_cell": true,
   "toc_position": {
    "height": "calc(100% - 180px)",
    "left": "10px",
    "top": "150px",
    "width": "384px"
   },
   "toc_section_display": true,
   "toc_window_display": true
  },
  "varInspector": {
   "cols": {
    "lenName": 16,
    "lenType": 16,
    "lenVar": 40
   },
   "kernels_config": {
    "python": {
     "delete_cmd_postfix": "",
     "delete_cmd_prefix": "del ",
     "library": "var_list.py",
     "varRefreshCmd": "print(var_dic_list())"
    },
    "r": {
     "delete_cmd_postfix": ") ",
     "delete_cmd_prefix": "rm(",
     "library": "var_list.r",
     "varRefreshCmd": "cat(var_dic_list()) "
    }
   },
   "types_to_exclude": [
    "module",
    "function",
    "builtin_function_or_method",
    "instance",
    "_Feature"
   ],
   "window_display": false
  }
 },
 "nbformat": 4,
 "nbformat_minor": 5
}
